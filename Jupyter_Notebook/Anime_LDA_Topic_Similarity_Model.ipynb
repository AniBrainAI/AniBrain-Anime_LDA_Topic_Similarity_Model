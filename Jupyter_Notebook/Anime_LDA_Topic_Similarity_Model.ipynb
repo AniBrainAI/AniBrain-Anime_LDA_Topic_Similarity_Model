{
 "cells": [
  {
   "cell_type": "markdown",
   "metadata": {},
   "source": [
    "# Anime LDA Topic Similarity Model"
   ]
  },
  {
   "cell_type": "markdown",
   "metadata": {},
   "source": [
    "### Read data import"
   ]
  },
  {
   "cell_type": "code",
   "execution_count": 1,
   "metadata": {},
   "outputs": [],
   "source": [
    "import mysql.connector as my_sql\n",
    "from dotenv import load_dotenv\n",
    "import os\n",
    "import pandas as pd"
   ]
  },
  {
   "cell_type": "markdown",
   "metadata": {},
   "source": [
    "### Read data"
   ]
  },
  {
   "cell_type": "code",
   "execution_count": 2,
   "metadata": {},
   "outputs": [],
   "source": [
    "load_dotenv()\n",
    "\n",
    "mydb = my_sql.connect(\n",
    "    host=os.getenv('DATABASE_HOST'),\n",
    "    user=os.getenv('DATABASE_USER'),\n",
    "    password=os.getenv('DATABASE_PASSWORD'),\n",
    "    database=os.getenv('DATABASE_NAME')\n",
    ")"
   ]
  },
  {
   "cell_type": "code",
   "execution_count": 3,
   "metadata": {},
   "outputs": [
    {
     "name": "stdout",
     "output_type": "stream",
     "text": [
      "<mysql.connector.connection.MySQLConnection object at 0x108f74b80>\n"
     ]
    }
   ],
   "source": [
    "print(mydb)"
   ]
  },
  {
   "cell_type": "code",
   "execution_count": 4,
   "metadata": {},
   "outputs": [],
   "source": [
    "mycursor = mydb.cursor()"
   ]
  },
  {
   "cell_type": "code",
   "execution_count": 5,
   "metadata": {},
   "outputs": [
    {
     "data": {
      "text/html": [
       "<div>\n",
       "<style scoped>\n",
       "    .dataframe tbody tr th:only-of-type {\n",
       "        vertical-align: middle;\n",
       "    }\n",
       "\n",
       "    .dataframe tbody tr th {\n",
       "        vertical-align: top;\n",
       "    }\n",
       "\n",
       "    .dataframe thead th {\n",
       "        text-align: right;\n",
       "    }\n",
       "</style>\n",
       "<table border=\"1\" class=\"dataframe\">\n",
       "  <thead>\n",
       "    <tr style=\"text-align: right;\">\n",
       "      <th></th>\n",
       "      <th>Title</th>\n",
       "      <th>Synopsis</th>\n",
       "    </tr>\n",
       "  </thead>\n",
       "  <tbody>\n",
       "    <tr>\n",
       "      <th>0</th>\n",
       "      <td>Cowboy Bebop</td>\n",
       "      <td>In the year 2071, humanity has colonized sever...</td>\n",
       "    </tr>\n",
       "    <tr>\n",
       "      <th>1</th>\n",
       "      <td>Cowboy Bebop: Tengoku no Tobira</td>\n",
       "      <td>Another day, another bounty—such is the life o...</td>\n",
       "    </tr>\n",
       "    <tr>\n",
       "      <th>2</th>\n",
       "      <td>Trigun</td>\n",
       "      <td>Vash the Stampede is the man with a $$60,000,0...</td>\n",
       "    </tr>\n",
       "    <tr>\n",
       "      <th>3</th>\n",
       "      <td>Witch Hunter Robin</td>\n",
       "      <td>Witches are individuals with special powers li...</td>\n",
       "    </tr>\n",
       "    <tr>\n",
       "      <th>4</th>\n",
       "      <td>Bouken Ou Beet</td>\n",
       "      <td>It is the dark century and the people are suff...</td>\n",
       "    </tr>\n",
       "  </tbody>\n",
       "</table>\n",
       "</div>"
      ],
      "text/plain": [
       "                             Title  \\\n",
       "0                     Cowboy Bebop   \n",
       "1  Cowboy Bebop: Tengoku no Tobira   \n",
       "2                           Trigun   \n",
       "3               Witch Hunter Robin   \n",
       "4                   Bouken Ou Beet   \n",
       "\n",
       "                                            Synopsis  \n",
       "0  In the year 2071, humanity has colonized sever...  \n",
       "1  Another day, another bounty—such is the life o...  \n",
       "2  Vash the Stampede is the man with a $$60,000,0...  \n",
       "3  Witches are individuals with special powers li...  \n",
       "4  It is the dark century and the people are suff...  "
      ]
     },
     "execution_count": 5,
     "metadata": {},
     "output_type": "execute_result"
    }
   ],
   "source": [
    "mycursor.execute('SELECT Title, Synopsis FROM MAL_Anime_Details')\n",
    "\n",
    "df = pd.DataFrame(mycursor.fetchall(), columns=[\n",
    "    'Title',\n",
    "    'Synopsis'\n",
    "])\n",
    "\n",
    "df.head()"
   ]
  },
  {
   "cell_type": "code",
   "execution_count": 6,
   "metadata": {},
   "outputs": [
    {
     "data": {
      "text/plain": [
       "True"
      ]
     },
     "execution_count": 6,
     "metadata": {},
     "output_type": "execute_result"
    }
   ],
   "source": [
    "mycursor.close()"
   ]
  },
  {
   "cell_type": "markdown",
   "metadata": {},
   "source": [
    "### Clean data imports"
   ]
  },
  {
   "cell_type": "code",
   "execution_count": 7,
   "metadata": {},
   "outputs": [],
   "source": [
    "import re"
   ]
  },
  {
   "cell_type": "markdown",
   "metadata": {},
   "source": [
    "### Clean data"
   ]
  },
  {
   "cell_type": "code",
   "execution_count": 8,
   "metadata": {},
   "outputs": [
    {
     "name": "stdout",
     "output_type": "stream",
     "text": [
      "<class 'pandas.core.frame.DataFrame'>\n",
      "RangeIndex: 6888 entries, 0 to 6887\n",
      "Data columns (total 2 columns):\n",
      " #   Column    Non-Null Count  Dtype \n",
      "---  ------    --------------  ----- \n",
      " 0   Title     6888 non-null   object\n",
      " 1   Synopsis  6888 non-null   object\n",
      "dtypes: object(2)\n",
      "memory usage: 107.8+ KB\n"
     ]
    }
   ],
   "source": [
    "df.info()"
   ]
  },
  {
   "cell_type": "code",
   "execution_count": 9,
   "metadata": {},
   "outputs": [
    {
     "name": "stdout",
     "output_type": "stream",
     "text": [
      "There are 0 duplicate titles\n"
     ]
    }
   ],
   "source": [
    "# Check for duplicate titles\n",
    "duplicated_title = df[df['Title'].duplicated()]\n",
    "print(\"There are \" + str(len(duplicated_title)) + \" duplicate titles\")"
   ]
  },
  {
   "cell_type": "code",
   "execution_count": 10,
   "metadata": {},
   "outputs": [],
   "source": [
    "def filter_sources(text):\n",
    "    \"\"\"\n",
    "    \n",
    "    \"\"\"\n",
    "    \n",
    "    new_text = re.sub('\\(Source:.*\\)', '', text, flags=re.IGNORECASE)\n",
    "    \n",
    "#     for src in srcs:\n",
    "#         text = text.replace(src, '')\n",
    "        \n",
    "    new_text = re.sub('\\[(Writt|from|Source).*\\]', '', new_text, flags=re.IGNORECASE)\n",
    "    \n",
    "#     for src in srcs_2:\n",
    "#         text = text.replace(src, '')\n",
    "    \n",
    "    return new_text.strip()"
   ]
  },
  {
   "cell_type": "code",
   "execution_count": 11,
   "metadata": {},
   "outputs": [],
   "source": [
    "filtered_srcs_df = df.copy()\n",
    "filtered_srcs_df['Synopsis'] = filtered_srcs_df['Synopsis'].apply(filter_sources)"
   ]
  },
  {
   "cell_type": "code",
   "execution_count": 12,
   "metadata": {},
   "outputs": [],
   "source": [
    "def filter_notes(text):\n",
    "    \"\"\"\n",
    "    \n",
    "    \"\"\"\n",
    "    \n",
    "    new_text = re.sub('Note:', '', text, flags=re.IGNORECASE)\n",
    "    \n",
    "    \n",
    "    return new_text.strip()"
   ]
  },
  {
   "cell_type": "code",
   "execution_count": 13,
   "metadata": {},
   "outputs": [],
   "source": [
    "filtered_notes_df = filtered_srcs_df.copy()\n",
    "filtered_notes_df['Synopsis'] = filtered_notes_df['Synopsis'].apply(filter_notes)"
   ]
  },
  {
   "cell_type": "code",
   "execution_count": 14,
   "metadata": {},
   "outputs": [
    {
     "data": {
      "text/plain": [
       "(6888, 2)"
      ]
     },
     "execution_count": 14,
     "metadata": {},
     "output_type": "execute_result"
    }
   ],
   "source": [
    "filtered_notes_df.shape"
   ]
  },
  {
   "cell_type": "code",
   "execution_count": 15,
   "metadata": {},
   "outputs": [
    {
     "data": {
      "text/plain": [
       "(6774, 2)"
      ]
     },
     "execution_count": 15,
     "metadata": {},
     "output_type": "execute_result"
    }
   ],
   "source": [
    "# Dropping rows with no real synopsis\n",
    "filtered_synopsis_df = filtered_notes_df.copy()\n",
    "filtered_synopsis_df = filtered_synopsis_df[filtered_synopsis_df['Synopsis'] != 'No synopsis has been added for this series yet. Click here to update this information.']\n",
    "filtered_synopsis_df = filtered_synopsis_df[filtered_synopsis_df['Synopsis'] != 'No synopsis information has been added to this title. Help improve our database by adding a synopsis here.']\n",
    "filtered_synopsis_df.shape"
   ]
  },
  {
   "cell_type": "code",
   "execution_count": 16,
   "metadata": {},
   "outputs": [
    {
     "data": {
      "text/plain": [
       "(6764, 2)"
      ]
     },
     "execution_count": 16,
     "metadata": {},
     "output_type": "execute_result"
    }
   ],
   "source": [
    "# Dropping rows with non-useful synopsis\n",
    "filtered_synopsis_df = filtered_synopsis_df[filtered_synopsis_df['Synopsis'] != 'Movie based on the 1985 TV anime with an original plot.']\n",
    "filtered_synopsis_df = filtered_synopsis_df[filtered_synopsis_df['Synopsis'] != 'A mix of animation and live-action.']\n",
    "filtered_synopsis_df = filtered_synopsis_df[filtered_synopsis_df['Synopsis'] != 'Short specials added to DVDs and Blu-rays.']\n",
    "filtered_synopsis_df = filtered_synopsis_df[filtered_synopsis_df['Synopsis'] != 'Special episodes added to DVDs and Blu-rays.']\n",
    "filtered_synopsis_df.shape"
   ]
  },
  {
   "cell_type": "code",
   "execution_count": 17,
   "metadata": {},
   "outputs": [],
   "source": [
    "def filter_japanese_characters(text):\n",
    "    \"\"\"\n",
    "    \n",
    "    \"\"\"\n",
    "    \n",
    "    new_text = re.sub('/[\\u3000-\\u303F]|[\\u3040-\\u309F]|[\\u30A0-\\u30FF]|[\\uFF00-\\uFFEF]|[\\u4E00-\\u9FAF]|[\\u2605-\\u2606]|[\\u2190-\\u2195]|\\u203B/g', '', text)\n",
    "        \n",
    "    return new_text"
   ]
  },
  {
   "cell_type": "code",
   "execution_count": 18,
   "metadata": {},
   "outputs": [],
   "source": [
    "filtered_synopsis_df[\"Synopsis\"] = filtered_synopsis_df[\"Synopsis\"].apply(filter_japanese_characters)"
   ]
  },
  {
   "cell_type": "code",
   "execution_count": 19,
   "metadata": {},
   "outputs": [],
   "source": [
    "def filter_escaped_characters(text):\n",
    "    \"\"\"\n",
    "    NOT WORKING\n",
    "    \"\"\"\n",
    "    \n",
    "    new_text = text.replace('\\\\','')\n",
    "        \n",
    "    return new_text"
   ]
  },
  {
   "cell_type": "code",
   "execution_count": 20,
   "metadata": {},
   "outputs": [],
   "source": [
    "filtered_synopsis_df[\"Synopsis\"] = filtered_synopsis_df[\"Synopsis\"].apply(filter_escaped_characters)"
   ]
  },
  {
   "cell_type": "markdown",
   "metadata": {},
   "source": [
    "### Process data imports"
   ]
  },
  {
   "cell_type": "code",
   "execution_count": 21,
   "metadata": {},
   "outputs": [],
   "source": [
    "from gensim.models import Phrases\n",
    "import spacy\n",
    "from spacy.lang.en import English\n",
    "import string\n",
    "import unidecode"
   ]
  },
  {
   "cell_type": "markdown",
   "metadata": {},
   "source": [
    "### Process data"
   ]
  },
  {
   "cell_type": "code",
   "execution_count": 22,
   "metadata": {},
   "outputs": [],
   "source": [
    "nlp = spacy.load(\"en_core_web_lg\")"
   ]
  },
  {
   "cell_type": "code",
   "execution_count": 23,
   "metadata": {},
   "outputs": [],
   "source": [
    "spacy_df = filtered_synopsis_df.copy()"
   ]
  },
  {
   "cell_type": "code",
   "execution_count": 24,
   "metadata": {},
   "outputs": [],
   "source": [
    "def remove_people(text):\n",
    "    \"\"\"\n",
    "    \n",
    "    \"\"\"\n",
    "    \n",
    "    text_nlp = nlp(text)\n",
    "    \n",
    "    for ent in text_nlp.ents:\n",
    "        if(ent.label_ == 'PERSON'):\n",
    "            text = text.replace(ent.text, '')\n",
    "            \n",
    "    return text"
   ]
  },
  {
   "cell_type": "code",
   "execution_count": 25,
   "metadata": {},
   "outputs": [],
   "source": [
    "# Remove numbers\n",
    "def filter_numbers(text):\n",
    "    return ''.join(c for c in text if not c.isdigit())"
   ]
  },
  {
   "cell_type": "code",
   "execution_count": 26,
   "metadata": {},
   "outputs": [],
   "source": [
    "def clean_text(text):\n",
    "    \"\"\"\n",
    "    Cleans text, keeping only alphanumeric characters\n",
    "        \n",
    "    Parameters\n",
    "    ----------\n",
    "    token: str\n",
    "        Word being processed\n",
    "\n",
    "    Returns\n",
    "    -------\n",
    "    str:\n",
    "        Cleaned string\n",
    "    \"\"\"\n",
    "    \n",
    "    cleaned_text = str(text).translate(str.maketrans(string.punctuation, ' '*len(string.punctuation)))\n",
    "    cleaned_text = re.sub(\"[\\W]+\", \" \", cleaned_text)\n",
    "    \n",
    "    return cleaned_text"
   ]
  },
  {
   "cell_type": "code",
   "execution_count": 27,
   "metadata": {},
   "outputs": [],
   "source": [
    "def spacy_clean_text(text):\n",
    "    \"\"\"\n",
    "    Lemmatizes text using spaCy\n",
    "        \n",
    "    Parameters\n",
    "    ----------\n",
    "    text: str\n",
    "        Text being processed\n",
    "\n",
    "    Returns\n",
    "    -------\n",
    "    str:\n",
    "        Lemmatized text\n",
    "    \"\"\"\n",
    "    \n",
    "    if text == '':\n",
    "        return text\n",
    "    \n",
    "    # Remove people\n",
    "    cleaned_text = remove_people(text)\n",
    "    \n",
    "    # Clean  \n",
    "    cleaned_text = clean_text(cleaned_text)\n",
    "    \n",
    "    # Tokenize\n",
    "    tokens = nlp(cleaned_text.lower())\n",
    "    \n",
    "    remove_list = [\n",
    "    'episode',\n",
    "    'series',\n",
    "    'short',\n",
    "    'anime',\n",
    "    'story',\n",
    "    'film',\n",
    "    'feature',\n",
    "    'character',\n",
    "    'special',\n",
    "    'movie',\n",
    "    'animation',\n",
    "    'original',\n",
    "    'release',\n",
    "    'manga',\n",
    "    'ova',\n",
    "    'scene',\n",
    "    'animate'\n",
    "    ]\n",
    "    \n",
    "    # Lemmatize\n",
    "    lemmatized_text = ' '.join([token.lemma_.strip() for token in tokens if not token.is_stop and not token.is_punct and (token.pos_ == 'NOUN' or token.pos_ == 'ADJ' or token.pos_ == 'VERB' or token.pos_ == 'ADV') and token.lemma_.strip() not in remove_list])\n",
    "    \n",
    "    # Remove numbers\n",
    "    no_numbers_text = filter_numbers(lemmatized_text)\n",
    "    \n",
    "    # Remove short words (<= 2)\n",
    "    removed_singles = [x for x in no_numbers_text.split() if len(x.strip()) > 2]\n",
    "    \n",
    "    # Remove numbers\n",
    "    full = \" \".join(removed_singles)\n",
    "    \n",
    "    return unidecode.unidecode(full)"
   ]
  },
  {
   "cell_type": "code",
   "execution_count": 28,
   "metadata": {},
   "outputs": [],
   "source": [
    "spacy_df['Corpus'] = spacy_df['Synopsis']\n",
    "spacy_df = spacy_df[[\"Title\", \"Corpus\"]]\n",
    "\n",
    "spacy_df[\"Corpus\"] = spacy_df[\"Corpus\"].apply(spacy_clean_text).copy()"
   ]
  },
  {
   "cell_type": "code",
   "execution_count": 29,
   "metadata": {},
   "outputs": [],
   "source": [
    "english_nlp = English()\n",
    "english_nlp.add_pipe(english_nlp.create_pipe('sentencizer'))\n",
    "\n",
    "def split_doc_to_sentence(doc):\n",
    "    split_doc = english_nlp(doc)\n",
    "    return [sent.string.strip() for sent in split_doc.sents]"
   ]
  },
  {
   "cell_type": "code",
   "execution_count": 30,
   "metadata": {},
   "outputs": [],
   "source": [
    "list_of_list = list(map(lambda x: split_doc_to_sentence(x), spacy_df['Corpus'].tolist()))\n",
    "flatten = lambda t: [item for sublist in t for item in sublist]\n",
    "unigram_sentences = flatten(list_of_list)\n",
    "unigram_sentences = [x.split() for x in unigram_sentences]"
   ]
  },
  {
   "cell_type": "code",
   "execution_count": 59,
   "metadata": {},
   "outputs": [],
   "source": [
    "bigram_sentences = []\n",
    "trigram_sentences = []\n",
    "\n",
    "# to create the bigrams\n",
    "bigram_model = Phrases(unigram_sentences)\n",
    "\n",
    "# apply the trained model to a sentence\n",
    "for unigram_sentence in unigram_sentences:                \n",
    "    bigram_sentence = u' '.join(bigram_model[unigram_sentence])\n",
    "    bigram_sentences.append(bigram_sentence)\n",
    "\n",
    "bigram_sentences = [x.split() for x in bigram_sentences]\n",
    "# get a trigram model out of the bigram\n",
    "trigram_model = Phrases(bigram_sentences)\n",
    "\n",
    "for bigram_sentence in bigram_sentences:\n",
    "    trigram_sentence = u' '.join(trigram_model[bigram_sentence])\n",
    "    trigram_sentences.append(trigram_sentence)"
   ]
  },
  {
   "cell_type": "code",
   "execution_count": 60,
   "metadata": {},
   "outputs": [],
   "source": [
    "for i, synopsis in enumerate(trigram_sentences, start=0):\n",
    "    spacy_df['Corpus'][i] = synopsis"
   ]
  },
  {
   "cell_type": "code",
   "execution_count": 61,
   "metadata": {},
   "outputs": [
    {
     "data": {
      "text/plain": [
       "(6315, 2)"
      ]
     },
     "execution_count": 61,
     "metadata": {},
     "output_type": "execute_result"
    }
   ],
   "source": [
    "spacy_df.shape"
   ]
  },
  {
   "cell_type": "code",
   "execution_count": 63,
   "metadata": {},
   "outputs": [],
   "source": [
    "spacy_df = spacy_df[spacy_df['Corpus'].map(len) >= 25]"
   ]
  },
  {
   "cell_type": "code",
   "execution_count": 64,
   "metadata": {},
   "outputs": [
    {
     "data": {
      "text/plain": [
       "(6315, 2)"
      ]
     },
     "execution_count": 64,
     "metadata": {},
     "output_type": "execute_result"
    }
   ],
   "source": [
    "spacy_df.shape"
   ]
  },
  {
   "cell_type": "markdown",
   "metadata": {},
   "source": [
    "### Topic Modeling"
   ]
  },
  {
   "cell_type": "code",
   "execution_count": 65,
   "metadata": {},
   "outputs": [],
   "source": [
    "from collections import defaultdict\n",
    "from gensim import corpora, models"
   ]
  },
  {
   "cell_type": "code",
   "execution_count": 66,
   "metadata": {},
   "outputs": [],
   "source": [
    "texts = [\n",
    "    [token for token in text.split()]\n",
    "    for text in spacy_df['Corpus']\n",
    "]\n",
    "\n",
    "dictionary = corpora.Dictionary(texts)\n",
    "no_below = int(len(texts) * 0.01)\n",
    "dictionary.filter_extremes(no_below=no_below, no_above=0.5)\n",
    "corpus = [dictionary.doc2bow(text) for text in texts]"
   ]
  },
  {
   "cell_type": "code",
   "execution_count": 67,
   "metadata": {},
   "outputs": [],
   "source": [
    "mallet_path = os.getenv('MALLET_PATH')\n",
    "\n",
    "def get_coherence_scores(dictionary, corpus, texts, start, stop, step):\n",
    "    coherence_values = []\n",
    "    model_list = []\n",
    "    \n",
    "    for num_topics in range(start, stop, step):\n",
    "        model = models.wrappers.LdaMallet(mallet_path, corpus=corpus, num_topics=num_topics, id2word=dictionary, iterations=1000, optimize_interval=10)\n",
    "        model_list.append(model)\n",
    "        coherencemodel = models.CoherenceModel(model=model, texts=texts, dictionary=dictionary, coherence='c_v')\n",
    "        coherence_values.append(coherencemodel.get_coherence())\n",
    "        \n",
    "    return model_list, coherence_values"
   ]
  },
  {
   "cell_type": "code",
   "execution_count": 68,
   "metadata": {},
   "outputs": [],
   "source": [
    "model_list, coherence_values = get_coherence_scores(dictionary=dictionary, corpus=corpus, texts=texts, start=4, stop=24, step=1)"
   ]
  },
  {
   "cell_type": "markdown",
   "metadata": {},
   "source": [
    "### Visual analysis imports"
   ]
  },
  {
   "cell_type": "code",
   "execution_count": 69,
   "metadata": {},
   "outputs": [],
   "source": [
    "import matplotlib.pyplot as plt"
   ]
  },
  {
   "cell_type": "markdown",
   "metadata": {},
   "source": [
    "### Visual analysis"
   ]
  },
  {
   "cell_type": "code",
   "execution_count": 70,
   "metadata": {},
   "outputs": [
    {
     "data": {
      "image/png": "[encoded data removed]",
      "text/plain": [
       "<Figure size 432x288 with 1 Axes>"
      ]
     },
     "metadata": {
      "needs_background": "light"
     },
     "output_type": "display_data"
    }
   ],
   "source": [
    "start=4; stop=24; step=1;\n",
    "x = range(start, stop, step)\n",
    "plt.plot(x, coherence_values)\n",
    "plt.xlabel(\"Num Topics\")\n",
    "plt.ylabel(\"Coherence score\")\n",
    "plt.legend((\"coherence_values\"), loc='best')\n",
    "plt.show()"
   ]
  },
  {
   "cell_type": "code",
   "execution_count": 71,
   "metadata": {},
   "outputs": [
    {
     "name": "stdout",
     "output_type": "stream",
     "text": [
      "Index 0 : Num Topics = 4 has Coherence Value of 0.4842\n",
      "Index 1 : Num Topics = 5 has Coherence Value of 0.4909\n",
      "Index 2 : Num Topics = 6 has Coherence Value of 0.4811\n",
      "Index 3 : Num Topics = 7 has Coherence Value of 0.4961\n",
      "Index 4 : Num Topics = 8 has Coherence Value of 0.509\n",
      "Index 5 : Num Topics = 9 has Coherence Value of 0.5018\n",
      "Index 6 : Num Topics = 10 has Coherence Value of 0.5176\n",
      "Index 7 : Num Topics = 11 has Coherence Value of 0.5154\n",
      "Index 8 : Num Topics = 12 has Coherence Value of 0.514\n",
      "Index 9 : Num Topics = 13 has Coherence Value of 0.4987\n",
      "Index 10 : Num Topics = 14 has Coherence Value of 0.5203\n",
      "Index 11 : Num Topics = 15 has Coherence Value of 0.5124\n",
      "Index 12 : Num Topics = 16 has Coherence Value of 0.5153\n",
      "Index 13 : Num Topics = 17 has Coherence Value of 0.5089\n",
      "Index 14 : Num Topics = 18 has Coherence Value of 0.51\n",
      "Index 15 : Num Topics = 19 has Coherence Value of 0.5079\n",
      "Index 16 : Num Topics = 20 has Coherence Value of 0.496\n",
      "Index 17 : Num Topics = 21 has Coherence Value of 0.5055\n",
      "Index 18 : Num Topics = 22 has Coherence Value of 0.5033\n",
      "Index 19 : Num Topics = 23 has Coherence Value of 0.5138\n"
     ]
    }
   ],
   "source": [
    "for i, (m, cv) in enumerate(zip(x, coherence_values)):\n",
    "    print(\"Index\", i, \":\", \"Num Topics =\", m, \"has Coherence Value of\", round(cv, 4))"
   ]
  },
  {
   "cell_type": "code",
   "execution_count": 76,
   "metadata": {},
   "outputs": [
    {
     "name": "stdout",
     "output_type": "stream",
     "text": [
      "[(0, '0.037*\"war\" + 0.031*\"world\" + 0.021*\"year\" + 0.019*\"force\" + 0.015*\"fight\" + 0.014*\"weapon\" + 0.014*\"battle\" + 0.013*\"life\" + 0.013*\"military\" + 0.012*\"country\"'), (1, '0.039*\"live\" + 0.032*\"life\" + 0.026*\"town\" + 0.025*\"friend\" + 0.021*\"human\" + 0.021*\"cat\" + 0.020*\"people\" + 0.019*\"world\" + 0.018*\"day\" + 0.016*\"find\"'), (2, '0.092*\"school\" + 0.056*\"girl\" + 0.052*\"student\" + 0.031*\"club\" + 0.028*\"class\" + 0.023*\"high_school\" + 0.022*\"teacher\" + 0.022*\"boy\" + 0.022*\"day\" + 0.017*\"member\"'), (3, '0.061*\"earth\" + 0.043*\"planet\" + 0.031*\"robot\" + 0.025*\"space\" + 0.023*\"alien\" + 0.015*\"pilot\" + 0.014*\"attack\" + 0.014*\"fight\" + 0.014*\"destroy\" + 0.013*\"call\"'), (4, '0.059*\"demon\" + 0.038*\"monster\" + 0.036*\"power\" + 0.035*\"world\" + 0.028*\"human\" + 0.024*\"evil\" + 0.016*\"fight\" + 0.014*\"dark\" + 0.014*\"god\" + 0.013*\"save\"'), (5, '0.062*\"father\" + 0.057*\"family\" + 0.051*\"mother\" + 0.026*\"live\" + 0.024*\"child\" + 0.023*\"life\" + 0.019*\"daughter\" + 0.018*\"day\" + 0.014*\"son\" + 0.014*\"sister\"'), (6, '0.026*\"fight\" + 0.026*\"power\" + 0.025*\"world\" + 0.018*\"warrior\" + 0.018*\"evil\" + 0.018*\"defeat\" + 0.016*\"battle\" + 0.016*\"sword\" + 0.015*\"hero\" + 0.014*\"clan\"'), (7, '0.060*\"team\" + 0.057*\"game\" + 0.028*\"play\" + 0.027*\"world\" + 0.026*\"player\" + 0.023*\"win\" + 0.020*\"race\" + 0.018*\"match\" + 0.017*\"good\" + 0.017*\"battle\"'), (8, '0.038*\"find\" + 0.037*\"island\" + 0.020*\"treasure\" + 0.019*\"world\" + 0.017*\"mysterious\" + 0.017*\"friend\" + 0.015*\"travel\" + 0.014*\"land\" + 0.013*\"stone\" + 0.013*\"man\"'), (9, '0.037*\"woman\" + 0.029*\"man\" + 0.024*\"work\" + 0.023*\"day\" + 0.020*\"train\" + 0.019*\"sex\" + 0.018*\"sexual\" + 0.018*\"find\" + 0.017*\"job\" + 0.016*\"body\"'), (10, '0.049*\"girl\" + 0.029*\"love\" + 0.026*\"friend\" + 0.022*\"day\" + 0.021*\"life\" + 0.021*\"school\" + 0.018*\"find\" + 0.018*\"time\" + 0.017*\"meet\" + 0.017*\"begin\"'), (11, '0.043*\"princess\" + 0.033*\"world\" + 0.027*\"magic\" + 0.025*\"magical\" + 0.025*\"kingdom\" + 0.024*\"girl\" + 0.023*\"book\" + 0.020*\"power\" + 0.019*\"find\" + 0.018*\"queen\"'), (12, '0.041*\"base\" + 0.030*\"japanese\" + 0.027*\"include\" + 0.024*\"main\" + 0.022*\"minute\" + 0.022*\"version\" + 0.020*\"music\" + 0.020*\"time\" + 0.019*\"create\" + 0.018*\"animate\"'), (13, '0.028*\"city\" + 0.023*\"find\" + 0.019*\"mysterious\" + 0.015*\"death\" + 0.014*\"world\" + 0.013*\"man\" + 0.013*\"time\" + 0.013*\"group\" + 0.013*\"murder\" + 0.013*\"police\"')]\n"
     ]
    }
   ],
   "source": [
    "optimal_model = model_list[10]\n",
    "model_topics = optimal_model.show_topics(formatted=False)\n",
    "print(optimal_model.print_topics(num_words=10))"
   ]
  },
  {
   "cell_type": "code",
   "execution_count": 77,
   "metadata": {},
   "outputs": [],
   "source": [
    "def format_topics_sentences(ldamodel=optimal_model, corpus=corpus, texts=texts):\n",
    "    # Init output\n",
    "    sent_topics_df = pd.DataFrame()\n",
    "\n",
    "    # Get main topic in each document\n",
    "    for i, row in enumerate(ldamodel[corpus]):\n",
    "        row = sorted(row, key=lambda x: (x[1]), reverse=True)\n",
    "        # Get the Dominant topic, Perc Contribution and Keywords for each document\n",
    "        for j, (topic_num, prop_topic) in enumerate(row):\n",
    "            if j == 0:  # => dominant topic\n",
    "                wp = ldamodel.show_topic(topic_num)\n",
    "                topic_keywords = \", \".join([word for word, prop in wp])\n",
    "                sent_topics_df = sent_topics_df.append(pd.Series([int(topic_num), round(prop_topic,4), topic_keywords]), ignore_index=True)\n",
    "            else:\n",
    "                break\n",
    "    sent_topics_df.columns = ['Dominant_Topic', 'Perc_Contribution', 'Topic_Keywords']\n",
    "    \n",
    "    # Add original text to the end of the output\n",
    "    contents = pd.Series(texts)\n",
    "    sent_topics_df = pd.concat([sent_topics_df, contents], axis=1)\n",
    "    return(sent_topics_df)"
   ]
  },
  {
   "cell_type": "code",
   "execution_count": 78,
   "metadata": {},
   "outputs": [],
   "source": [
    "df_topic_sents_keywords = format_topics_sentences(ldamodel=optimal_model, corpus=corpus, texts=texts)\n",
    "\n",
    "# Format\n",
    "df_dominant_topic = df_topic_sents_keywords.reset_index()\n",
    "df_dominant_topic.columns = ['Document_No', 'Dominant_Topic', 'Topic_Perc_Contrib', 'Keywords', 'Text']"
   ]
  },
  {
   "cell_type": "code",
   "execution_count": 79,
   "metadata": {},
   "outputs": [
    {
     "data": {
      "text/html": [
       "<div>\n",
       "<style scoped>\n",
       "    .dataframe tbody tr th:only-of-type {\n",
       "        vertical-align: middle;\n",
       "    }\n",
       "\n",
       "    .dataframe tbody tr th {\n",
       "        vertical-align: top;\n",
       "    }\n",
       "\n",
       "    .dataframe thead th {\n",
       "        text-align: right;\n",
       "    }\n",
       "</style>\n",
       "<table border=\"1\" class=\"dataframe\">\n",
       "  <thead>\n",
       "    <tr style=\"text-align: right;\">\n",
       "      <th></th>\n",
       "      <th>Document_No</th>\n",
       "      <th>Dominant_Topic</th>\n",
       "      <th>Topic_Perc_Contrib</th>\n",
       "      <th>Keywords</th>\n",
       "      <th>Text</th>\n",
       "    </tr>\n",
       "  </thead>\n",
       "  <tbody>\n",
       "    <tr>\n",
       "      <th>0</th>\n",
       "      <td>0</td>\n",
       "      <td>13.0</td>\n",
       "      <td>0.3644</td>\n",
       "      <td>city, find, mysterious, death, world, man, tim...</td>\n",
       "      <td>[year, humanity, colonize_planet, moon, solar_...</td>\n",
       "    </tr>\n",
       "    <tr>\n",
       "      <th>1</th>\n",
       "      <td>1</td>\n",
       "      <td>13.0</td>\n",
       "      <td>0.6282</td>\n",
       "      <td>city, find, mysterious, death, world, man, tim...</td>\n",
       "      <td>[day, bounty, life, unlucky, crew, bebop, rout...</td>\n",
       "    </tr>\n",
       "    <tr>\n",
       "      <th>2</th>\n",
       "      <td>2</td>\n",
       "      <td>13.0</td>\n",
       "      <td>0.6132</td>\n",
       "      <td>city, find, mysterious, death, world, man, tim...</td>\n",
       "      <td>[man, bounty, head, reason, merciless, villain...</td>\n",
       "    </tr>\n",
       "    <tr>\n",
       "      <th>3</th>\n",
       "      <td>3</td>\n",
       "      <td>11.0</td>\n",
       "      <td>0.4396</td>\n",
       "      <td>princess, world, magic, magical, kingdom, girl...</td>\n",
       "      <td>[witch, individual, power, mind, control, year...</td>\n",
       "    </tr>\n",
       "    <tr>\n",
       "      <th>4</th>\n",
       "      <td>4</td>\n",
       "      <td>6.0</td>\n",
       "      <td>0.8041</td>\n",
       "      <td>fight, power, world, warrior, evil, defeat, ba...</td>\n",
       "      <td>[dark, century, people, suffer, rule, vandel, ...</td>\n",
       "    </tr>\n",
       "    <tr>\n",
       "      <th>5</th>\n",
       "      <td>5</td>\n",
       "      <td>7.0</td>\n",
       "      <td>0.5283</td>\n",
       "      <td>team, game, play, world, player, win, race, ma...</td>\n",
       "      <td>[shy, kid, start, high_school, try, survive, c...</td>\n",
       "    </tr>\n",
       "    <tr>\n",
       "      <th>6</th>\n",
       "      <td>6</td>\n",
       "      <td>10.0</td>\n",
       "      <td>0.8714</td>\n",
       "      <td>girl, love, friend, day, life, school, find, t...</td>\n",
       "      <td>[sophomore, art, college, share, cheap, apartm...</td>\n",
       "    </tr>\n",
       "    <tr>\n",
       "      <th>7</th>\n",
       "      <td>7</td>\n",
       "      <td>1.0</td>\n",
       "      <td>0.3417</td>\n",
       "      <td>live, life, town, friend, human, cat, people, ...</td>\n",
       "      <td>[live, shadow, successful, brother, life, prof...</td>\n",
       "    </tr>\n",
       "    <tr>\n",
       "      <th>8</th>\n",
       "      <td>8</td>\n",
       "      <td>7.0</td>\n",
       "      <td>0.7632</td>\n",
       "      <td>team, game, play, world, player, win, race, ma...</td>\n",
       "      <td>[finally, join, create, project, goal, twofold...</td>\n",
       "    </tr>\n",
       "    <tr>\n",
       "      <th>9</th>\n",
       "      <td>9</td>\n",
       "      <td>13.0</td>\n",
       "      <td>0.6870</td>\n",
       "      <td>city, find, mysterious, death, world, man, tim...</td>\n",
       "      <td>[elite, neurosurgeon, recently, engage, hospit...</td>\n",
       "    </tr>\n",
       "    <tr>\n",
       "      <th>10</th>\n",
       "      <td>10</td>\n",
       "      <td>1.0</td>\n",
       "      <td>0.3060</td>\n",
       "      <td>live, life, town, friend, human, cat, people, ...</td>\n",
       "      <td>[moment, prior, birth, huge, demon, know, tail...</td>\n",
       "    </tr>\n",
       "    <tr>\n",
       "      <th>11</th>\n",
       "      <td>11</td>\n",
       "      <td>8.0</td>\n",
       "      <td>0.5139</td>\n",
       "      <td>find, island, treasure, world, mysterious, fri...</td>\n",
       "      <td>[know, pirate, king, strong, infamous, sail, g...</td>\n",
       "    </tr>\n",
       "    <tr>\n",
       "      <th>12</th>\n",
       "      <td>12</td>\n",
       "      <td>7.0</td>\n",
       "      <td>0.7747</td>\n",
       "      <td>team, game, play, world, player, win, race, ma...</td>\n",
       "      <td>[world, tennis, harsh, highly, competitive, nu...</td>\n",
       "    </tr>\n",
       "    <tr>\n",
       "      <th>13</th>\n",
       "      <td>13</td>\n",
       "      <td>7.0</td>\n",
       "      <td>0.6564</td>\n",
       "      <td>team, game, play, world, player, win, race, ma...</td>\n",
       "      <td>[order_fulfill, dead_father, wish, sibling, ai...</td>\n",
       "    </tr>\n",
       "    <tr>\n",
       "      <th>14</th>\n",
       "      <td>14</td>\n",
       "      <td>10.0</td>\n",
       "      <td>0.8223</td>\n",
       "      <td>girl, love, friend, day, life, school, find, t...</td>\n",
       "      <td>[word, love, change, nature, bittersweet, tria...</td>\n",
       "    </tr>\n",
       "  </tbody>\n",
       "</table>\n",
       "</div>"
      ],
      "text/plain": [
       "    Document_No  Dominant_Topic  Topic_Perc_Contrib  \\\n",
       "0             0            13.0              0.3644   \n",
       "1             1            13.0              0.6282   \n",
       "2             2            13.0              0.6132   \n",
       "3             3            11.0              0.4396   \n",
       "4             4             6.0              0.8041   \n",
       "5             5             7.0              0.5283   \n",
       "6             6            10.0              0.8714   \n",
       "7             7             1.0              0.3417   \n",
       "8             8             7.0              0.7632   \n",
       "9             9            13.0              0.6870   \n",
       "10           10             1.0              0.3060   \n",
       "11           11             8.0              0.5139   \n",
       "12           12             7.0              0.7747   \n",
       "13           13             7.0              0.6564   \n",
       "14           14            10.0              0.8223   \n",
       "\n",
       "                                             Keywords  \\\n",
       "0   city, find, mysterious, death, world, man, tim...   \n",
       "1   city, find, mysterious, death, world, man, tim...   \n",
       "2   city, find, mysterious, death, world, man, tim...   \n",
       "3   princess, world, magic, magical, kingdom, girl...   \n",
       "4   fight, power, world, warrior, evil, defeat, ba...   \n",
       "5   team, game, play, world, player, win, race, ma...   \n",
       "6   girl, love, friend, day, life, school, find, t...   \n",
       "7   live, life, town, friend, human, cat, people, ...   \n",
       "8   team, game, play, world, player, win, race, ma...   \n",
       "9   city, find, mysterious, death, world, man, tim...   \n",
       "10  live, life, town, friend, human, cat, people, ...   \n",
       "11  find, island, treasure, world, mysterious, fri...   \n",
       "12  team, game, play, world, player, win, race, ma...   \n",
       "13  team, game, play, world, player, win, race, ma...   \n",
       "14  girl, love, friend, day, life, school, find, t...   \n",
       "\n",
       "                                                 Text  \n",
       "0   [year, humanity, colonize_planet, moon, solar_...  \n",
       "1   [day, bounty, life, unlucky, crew, bebop, rout...  \n",
       "2   [man, bounty, head, reason, merciless, villain...  \n",
       "3   [witch, individual, power, mind, control, year...  \n",
       "4   [dark, century, people, suffer, rule, vandel, ...  \n",
       "5   [shy, kid, start, high_school, try, survive, c...  \n",
       "6   [sophomore, art, college, share, cheap, apartm...  \n",
       "7   [live, shadow, successful, brother, life, prof...  \n",
       "8   [finally, join, create, project, goal, twofold...  \n",
       "9   [elite, neurosurgeon, recently, engage, hospit...  \n",
       "10  [moment, prior, birth, huge, demon, know, tail...  \n",
       "11  [know, pirate, king, strong, infamous, sail, g...  \n",
       "12  [world, tennis, harsh, highly, competitive, nu...  \n",
       "13  [order_fulfill, dead_father, wish, sibling, ai...  \n",
       "14  [word, love, change, nature, bittersweet, tria...  "
      ]
     },
     "execution_count": 79,
     "metadata": {},
     "output_type": "execute_result"
    }
   ],
   "source": [
    "# Show\n",
    "df_dominant_topic.head(15)"
   ]
  },
  {
   "cell_type": "code",
   "execution_count": 80,
   "metadata": {},
   "outputs": [
    {
     "data": {
      "text/plain": [
       "'word love change nature bittersweet trial high_school romance second_year quest confess_feeling boy like delinquent sizable reputation similar situation properly convey feeling love school friend rivalry hobby find high_school romance walk park especially misunderstanding complicate plight school rumble high octane romantic_comedy relatable situation try win_heart desire'"
      ]
     },
     "execution_count": 80,
     "metadata": {},
     "output_type": "execute_result"
    }
   ],
   "source": [
    "spacy_df['Corpus'][14]"
   ]
  },
  {
   "cell_type": "code",
   "execution_count": null,
   "metadata": {},
   "outputs": [],
   "source": []
  }
 ],
 "metadata": {
  "kernelspec": {
   "display_name": "Python 3",
   "language": "python",
   "name": "python3"
  },
  "language_info": {
   "codemirror_mode": {
    "name": "ipython",
    "version": 3
   },
   "file_extension": ".py",
   "mimetype": "text/x-python",
   "name": "python",
   "nbconvert_exporter": "python",
   "pygments_lexer": "ipython3",
   "version": "3.9.0"
  }
 },
 "nbformat": 4,
 "nbformat_minor": 4
}
